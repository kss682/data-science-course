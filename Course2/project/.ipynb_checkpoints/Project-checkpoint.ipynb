{
 "cells": [
  {
   "cell_type": "markdown",
   "metadata": {},
   "source": [
    "# Applied Plotting, Charting & Data Representation in Python\n",
    "\n",
    "## Project"
   ]
  },
  {
   "cell_type": "markdown",
   "metadata": {},
   "source": [
    "## Research Question \n",
    "\n",
    "Analyse the relation between GDP per capita and CO2 emmisions over the years\n",
    "\n",
    "This analysis would form the base of understanding as to how much do the developed and developing countries contribute to CO2 emmision.\n",
    "\n",
    "For the analysis, 2 data sets have been used \n",
    "        1) [CO2 emmisions per country](https://ourworldindata.org/grapher/annual-co2-emissions-per-country)\n",
    "        2) [GDP per capita per country](https://ourworldindata.org/grapher/gdp-per-capita-worldbank)\n",
    "        \n",
    "For the purpose of this analysis we will be taking only the top 5 and bottom 5 GDP growth, and plot it against the CO2 emmision.\n",
    "        "
   ]
  },
  {
   "cell_type": "code",
   "execution_count": 1,
   "metadata": {},
   "outputs": [],
   "source": [
    "import pandas as pd\n",
    "import numpy as np\n",
    "import matplotlib.pyplot as plt"
   ]
  },
  {
   "cell_type": "markdown",
   "metadata": {},
   "source": [
    "### CO2 emmision data "
   ]
  },
  {
   "cell_type": "code",
   "execution_count": 6,
   "metadata": {},
   "outputs": [
    {
     "data": {
      "text/plain": [
       "0        1949\n",
       "1        1950\n",
       "2        1951\n",
       "3        1952\n",
       "4        1953\n",
       "         ... \n",
       "19559    2013\n",
       "19560    2014\n",
       "19561    2015\n",
       "19562    2016\n",
       "19563    2017\n",
       "Name: Year, Length: 19564, dtype: int64"
      ]
     },
     "execution_count": 6,
     "metadata": {},
     "output_type": "execute_result"
    }
   ],
   "source": [
    "co2_df = pd.read_csv('annual-co2-emissions-per-country.csv')\n",
    "print(co2_df.)"
   ]
  },
  {
   "cell_type": "markdown",
   "metadata": {},
   "source": [
    "### GDP per capita data"
   ]
  },
  {
   "cell_type": "code",
   "execution_count": 21,
   "metadata": {},
   "outputs": [],
   "source": [
    "gdp_df = pd.read_csv('gdp-per-capita-worldbank.csv')\n",
    "gdp_df.head()\n",
    "gdp_df = gdp_df.drop('Code',axis = 1)"
   ]
  },
  {
   "cell_type": "markdown",
   "metadata": {},
   "source": [
    "### Data cleaning"
   ]
  },
  {
   "cell_type": "code",
   "execution_count": 22,
   "metadata": {},
   "outputs": [
    {
     "data": {
      "text/html": [
       "<div>\n",
       "<style scoped>\n",
       "    .dataframe tbody tr th:only-of-type {\n",
       "        vertical-align: middle;\n",
       "    }\n",
       "\n",
       "    .dataframe tbody tr th {\n",
       "        vertical-align: top;\n",
       "    }\n",
       "\n",
       "    .dataframe thead th {\n",
       "        text-align: right;\n",
       "    }\n",
       "</style>\n",
       "<table border=\"1\" class=\"dataframe\">\n",
       "  <thead>\n",
       "    <tr style=\"text-align: right;\">\n",
       "      <th></th>\n",
       "      <th>Year</th>\n",
       "      <th>GDPc</th>\n",
       "    </tr>\n",
       "    <tr>\n",
       "      <th>Country</th>\n",
       "      <th></th>\n",
       "      <th></th>\n",
       "    </tr>\n",
       "  </thead>\n",
       "  <tbody>\n",
       "    <tr>\n",
       "      <th>Afghanistan</th>\n",
       "      <td>2002</td>\n",
       "      <td>1063.635574</td>\n",
       "    </tr>\n",
       "    <tr>\n",
       "      <th>Afghanistan</th>\n",
       "      <td>2003</td>\n",
       "      <td>1099.194507</td>\n",
       "    </tr>\n",
       "    <tr>\n",
       "      <th>Afghanistan</th>\n",
       "      <td>2004</td>\n",
       "      <td>1062.249360</td>\n",
       "    </tr>\n",
       "    <tr>\n",
       "      <th>Afghanistan</th>\n",
       "      <td>2005</td>\n",
       "      <td>1136.123214</td>\n",
       "    </tr>\n",
       "    <tr>\n",
       "      <th>Afghanistan</th>\n",
       "      <td>2006</td>\n",
       "      <td>1161.124889</td>\n",
       "    </tr>\n",
       "    <tr>\n",
       "      <th>...</th>\n",
       "      <td>...</td>\n",
       "      <td>...</td>\n",
       "    </tr>\n",
       "    <tr>\n",
       "      <th>Zimbabwe</th>\n",
       "      <td>2013</td>\n",
       "      <td>1929.765001</td>\n",
       "    </tr>\n",
       "    <tr>\n",
       "      <th>Zimbabwe</th>\n",
       "      <td>2014</td>\n",
       "      <td>1925.138698</td>\n",
       "    </tr>\n",
       "    <tr>\n",
       "      <th>Zimbabwe</th>\n",
       "      <td>2015</td>\n",
       "      <td>1912.280261</td>\n",
       "    </tr>\n",
       "    <tr>\n",
       "      <th>Zimbabwe</th>\n",
       "      <td>2016</td>\n",
       "      <td>1879.628119</td>\n",
       "    </tr>\n",
       "    <tr>\n",
       "      <th>Zimbabwe</th>\n",
       "      <td>2017</td>\n",
       "      <td>1899.774977</td>\n",
       "    </tr>\n",
       "  </tbody>\n",
       "</table>\n",
       "<p>6407 rows × 2 columns</p>\n",
       "</div>"
      ],
      "text/plain": [
       "             Year         GDPc\n",
       "Country                       \n",
       "Afghanistan  2002  1063.635574\n",
       "Afghanistan  2003  1099.194507\n",
       "Afghanistan  2004  1062.249360\n",
       "Afghanistan  2005  1136.123214\n",
       "Afghanistan  2006  1161.124889\n",
       "...           ...          ...\n",
       "Zimbabwe     2013  1929.765001\n",
       "Zimbabwe     2014  1925.138698\n",
       "Zimbabwe     2015  1912.280261\n",
       "Zimbabwe     2016  1879.628119\n",
       "Zimbabwe     2017  1899.774977\n",
       "\n",
       "[6407 rows x 2 columns]"
      ]
     },
     "execution_count": 22,
     "metadata": {},
     "output_type": "execute_result"
    }
   ],
   "source": [
    "gdp_df = gdp_df.rename(columns = {\n",
    "            \"GDP per capita (int.-$) (constant 2011 international $)\":\"GDPc\",\n",
    "            \"Entity\" : \"Country\" \n",
    "        })\n",
    "\n",
    "gdp_df = gdp_df.set_index(['Country'])\n",
    "gdp_df"
   ]
  },
  {
   "cell_type": "code",
   "execution_count": 27,
   "metadata": {},
   "outputs": [
    {
     "data": {
      "image/png": "[encoded data removed]",
      "text/plain": [
       "<Figure size 432x288 with 1 Axes>"
      ]
     },
     "metadata": {
      "needs_background": "light"
     },
     "output_type": "display_data"
    }
   ],
   "source": [
    "for ind in range(5):\n",
    "    years = gdp_df.iloc[ind]['Year']\n",
    "    gdp = gdp_df.iloc[ind]['GDPc']\n",
    "    label = gdp_df.index[ind]\n",
    "    plt.plot(years, gdp, label = label)\n",
    "plt.legend()\n",
    "plt.show()"
   ]
  },
  {
   "cell_type": "code",
   "execution_count": null,
   "metadata": {},
   "outputs": [],
   "source": []
  }
 ],
 "metadata": {
  "kernelspec": {
   "display_name": "Python 3",
   "language": "python",
   "name": "python3"
  },
  "language_info": {
   "codemirror_mode": {
    "name": "ipython",
    "version": 3
   },
   "file_extension": ".py",
   "mimetype": "text/x-python",
   "name": "python",
   "nbconvert_exporter": "python",
   "pygments_lexer": "ipython3",
   "version": "3.7.3"
  }
 },
 "nbformat": 4,
 "nbformat_minor": 4
}
